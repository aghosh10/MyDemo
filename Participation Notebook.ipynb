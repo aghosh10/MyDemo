{
    "cells": [
        {
            "metadata": {},
            "cell_type": "markdown",
            "source": "Description of first NoteBook Code"
        },
        {
            "metadata": {},
            "cell_type": "code",
            "source": "\nimport types\nimport pandas as pd\nfrom botocore.client import Config\nimport ibm_boto3\n\ndef __iter__(self): return 0\n\n# @hidden_cell\n# The following code accesses a file in your IBM Cloud Object Storage. It includes your credentials.\n# You might want to remove those credentials before you share the notebook.\nclient_8ab0bbd238464d749f1ba0eb160115d8 = ibm_boto3.client(service_name='s3',\n    ibm_api_key_id='-YY6_FMwX-XWg8Kjm2JUjP9_xkqL4SdhbyBmZ6GJR0FG',\n    ibm_auth_endpoint=\"https://iam.cloud.ibm.com/oidc/token\",\n    config=Config(signature_version='oauth'),\n    endpoint_url='https://s3-api.us-geo.objectstorage.service.networklayer.com')\n\nbody = client_8ab0bbd238464d749f1ba0eb160115d8.get_object(Bucket='mywatsonproject-donotdelete-pr-cqki7tlshdk8vd',Key='C_side_hpnm1_perf_rprt_2020-06-19.csv')['Body']\n# add missing __iter__ method, so pandas accepts body as file-like object\nif not hasattr(body, \"__iter__\"): body.__iter__ = types.MethodType( __iter__, body )\n\ndf_data_1 = pd.read_csv(body)\ndf_data_1.head()\n",
            "execution_count": 1,
            "outputs": [
                {
                    "output_type": "execute_result",
                    "execution_count": 1,
                    "data": {
                        "text/plain": "  Unnamed: 0 CSIDEDynaCacheUtil:GetDataObjectCache Unnamed: 2 Unnamed: 3  \\\n0   Interval                                Number    Average    Maximum   \n1   03:25:29                                    14       1.21          7   \n2   03:26:29                                    16       0.69          6   \n3   03:27:29                                     9       1.11          5   \n4   03:28:29                                    15       0.73          7   \n\n  GetProductConfigResponse:TotalWaitTime Unnamed: 5 Unnamed: 6  \\\n0                                 Number    Average    Maximum   \n1                                      2       3000       3000   \n2                                      2       3500       3500   \n3                                      2       1750       3500   \n4                                      2       3250       3500   \n\n  GetProductConfigResponse:GetInitProductConfigResponse Unnamed: 8 Unnamed: 9  \\\n0                                             Number       Average    Maximum   \n1                                                  2          6396       9773   \n2                                                  2        3633.5       3652   \n3                                                  2        1763.5       3516   \n4                                                  2        3338.5       3603   \n\n   ... Unnamed: 42 ProfferFacadeMedMod:getCrossLOBRecommendations Unnamed: 44  \\\n0  ...     Maximum                                         Number     Average   \n1  ...         126                                            NaN         NaN   \n2  ...          87                                            NaN         NaN   \n3  ...          77                                              4     3264.25   \n4  ...          79                                              5      3784.6   \n\n  Unnamed: 45 ProductConfigService:AutoConfigPCS Unnamed: 47 Unnamed: 48  \\\n0     Maximum                             Number     Average     Maximum   \n1         NaN                                NaN         NaN         NaN   \n2         NaN                                NaN         NaN         NaN   \n3        3894                                 14        6334        9513   \n4        4831                                 53     7005.91       10153   \n\n  RecommendationsMod:GetRecommendations Unnamed: 50 Unnamed: 51  \n0                                Number     Average     Maximum  \n1                                   NaN         NaN         NaN  \n2                                   NaN         NaN         NaN  \n3                                     2       11571       13474  \n4                                     7    10993.14       15073  \n\n[5 rows x 52 columns]",
                        "text/html": "<div>\n<style scoped>\n    .dataframe tbody tr th:only-of-type {\n        vertical-align: middle;\n    }\n\n    .dataframe tbody tr th {\n        vertical-align: top;\n    }\n\n    .dataframe thead th {\n        text-align: right;\n    }\n</style>\n<table border=\"1\" class=\"dataframe\">\n  <thead>\n    <tr style=\"text-align: right;\">\n      <th></th>\n      <th>Unnamed: 0</th>\n      <th>CSIDEDynaCacheUtil:GetDataObjectCache</th>\n      <th>Unnamed: 2</th>\n      <th>Unnamed: 3</th>\n      <th>GetProductConfigResponse:TotalWaitTime</th>\n      <th>Unnamed: 5</th>\n      <th>Unnamed: 6</th>\n      <th>GetProductConfigResponse:GetInitProductConfigResponse</th>\n      <th>Unnamed: 8</th>\n      <th>Unnamed: 9</th>\n      <th>...</th>\n      <th>Unnamed: 42</th>\n      <th>ProfferFacadeMedMod:getCrossLOBRecommendations</th>\n      <th>Unnamed: 44</th>\n      <th>Unnamed: 45</th>\n      <th>ProductConfigService:AutoConfigPCS</th>\n      <th>Unnamed: 47</th>\n      <th>Unnamed: 48</th>\n      <th>RecommendationsMod:GetRecommendations</th>\n      <th>Unnamed: 50</th>\n      <th>Unnamed: 51</th>\n    </tr>\n  </thead>\n  <tbody>\n    <tr>\n      <th>0</th>\n      <td>Interval</td>\n      <td>Number</td>\n      <td>Average</td>\n      <td>Maximum</td>\n      <td>Number</td>\n      <td>Average</td>\n      <td>Maximum</td>\n      <td>Number</td>\n      <td>Average</td>\n      <td>Maximum</td>\n      <td>...</td>\n      <td>Maximum</td>\n      <td>Number</td>\n      <td>Average</td>\n      <td>Maximum</td>\n      <td>Number</td>\n      <td>Average</td>\n      <td>Maximum</td>\n      <td>Number</td>\n      <td>Average</td>\n      <td>Maximum</td>\n    </tr>\n    <tr>\n      <th>1</th>\n      <td>03:25:29</td>\n      <td>14</td>\n      <td>1.21</td>\n      <td>7</td>\n      <td>2</td>\n      <td>3000</td>\n      <td>3000</td>\n      <td>2</td>\n      <td>6396</td>\n      <td>9773</td>\n      <td>...</td>\n      <td>126</td>\n      <td>NaN</td>\n      <td>NaN</td>\n      <td>NaN</td>\n      <td>NaN</td>\n      <td>NaN</td>\n      <td>NaN</td>\n      <td>NaN</td>\n      <td>NaN</td>\n      <td>NaN</td>\n    </tr>\n    <tr>\n      <th>2</th>\n      <td>03:26:29</td>\n      <td>16</td>\n      <td>0.69</td>\n      <td>6</td>\n      <td>2</td>\n      <td>3500</td>\n      <td>3500</td>\n      <td>2</td>\n      <td>3633.5</td>\n      <td>3652</td>\n      <td>...</td>\n      <td>87</td>\n      <td>NaN</td>\n      <td>NaN</td>\n      <td>NaN</td>\n      <td>NaN</td>\n      <td>NaN</td>\n      <td>NaN</td>\n      <td>NaN</td>\n      <td>NaN</td>\n      <td>NaN</td>\n    </tr>\n    <tr>\n      <th>3</th>\n      <td>03:27:29</td>\n      <td>9</td>\n      <td>1.11</td>\n      <td>5</td>\n      <td>2</td>\n      <td>1750</td>\n      <td>3500</td>\n      <td>2</td>\n      <td>1763.5</td>\n      <td>3516</td>\n      <td>...</td>\n      <td>77</td>\n      <td>4</td>\n      <td>3264.25</td>\n      <td>3894</td>\n      <td>14</td>\n      <td>6334</td>\n      <td>9513</td>\n      <td>2</td>\n      <td>11571</td>\n      <td>13474</td>\n    </tr>\n    <tr>\n      <th>4</th>\n      <td>03:28:29</td>\n      <td>15</td>\n      <td>0.73</td>\n      <td>7</td>\n      <td>2</td>\n      <td>3250</td>\n      <td>3500</td>\n      <td>2</td>\n      <td>3338.5</td>\n      <td>3603</td>\n      <td>...</td>\n      <td>79</td>\n      <td>5</td>\n      <td>3784.6</td>\n      <td>4831</td>\n      <td>53</td>\n      <td>7005.91</td>\n      <td>10153</td>\n      <td>7</td>\n      <td>10993.14</td>\n      <td>15073</td>\n    </tr>\n  </tbody>\n</table>\n<p>5 rows \u00d7 52 columns</p>\n</div>"
                    },
                    "metadata": {}
                }
            ]
        },
        {
            "metadata": {},
            "cell_type": "code",
            "source": "",
            "execution_count": null,
            "outputs": []
        }
    ],
    "metadata": {
        "kernelspec": {
            "name": "python3",
            "display_name": "Python 3.6",
            "language": "python"
        },
        "language_info": {
            "name": "python",
            "version": "3.6.9",
            "mimetype": "text/x-python",
            "codemirror_mode": {
                "name": "ipython",
                "version": 3
            },
            "pygments_lexer": "ipython3",
            "nbconvert_exporter": "python",
            "file_extension": ".py"
        }
    },
    "nbformat": 4,
    "nbformat_minor": 1
}